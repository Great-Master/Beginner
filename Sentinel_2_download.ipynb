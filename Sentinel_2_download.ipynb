{
  "nbformat": 4,
  "nbformat_minor": 0,
  "metadata": {
    "colab": {
      "provenance": [],
      "authorship_tag": "ABX9TyOJOif5a3FFNKeygu17RLnn",
      "include_colab_link": true
    },
    "kernelspec": {
      "name": "python3",
      "display_name": "Python 3"
    },
    "language_info": {
      "name": "python"
    }
  },
  "cells": [
    {
      "cell_type": "markdown",
      "metadata": {
        "id": "view-in-github",
        "colab_type": "text"
      },
      "source": [
        "<a href=\"https://colab.research.google.com/github/Great-Master/Beginner/blob/master/Sentinel_2_download.ipynb\" target=\"_parent\"><img src=\"https://colab.research.google.com/assets/colab-badge.svg\" alt=\"Open In Colab\"/></a>"
      ]
    },
    {
      "cell_type": "code",
      "execution_count": 1,
      "metadata": {
        "colab": {
          "base_uri": "https://localhost:8080/",
          "height": 383
        },
        "id": "-4bHlmjT6L26",
        "outputId": "c1c996c2-f24b-4b60-90a0-c23c17e224ea"
      },
      "outputs": [
        {
          "output_type": "error",
          "ename": "ModuleNotFoundError",
          "evalue": "ignored",
          "traceback": [
            "\u001b[0;31m---------------------------------------------------------------------------\u001b[0m",
            "\u001b[0;31mModuleNotFoundError\u001b[0m                       Traceback (most recent call last)",
            "\u001b[0;32m<ipython-input-1-4c3632f9b1e0>\u001b[0m in \u001b[0;36m<module>\u001b[0;34m\u001b[0m\n\u001b[0;32m----> 1\u001b[0;31m \u001b[0;32mfrom\u001b[0m \u001b[0msentinelsat\u001b[0m \u001b[0;32mimport\u001b[0m \u001b[0mSentinelAPI\u001b[0m\u001b[0;34m,\u001b[0m \u001b[0mread_geojson\u001b[0m\u001b[0;34m,\u001b[0m \u001b[0mgeojson_to_wkt\u001b[0m\u001b[0;34m\u001b[0m\u001b[0;34m\u001b[0m\u001b[0m\n\u001b[0m\u001b[1;32m      2\u001b[0m \u001b[0;32mfrom\u001b[0m \u001b[0mdatetime\u001b[0m \u001b[0;32mimport\u001b[0m \u001b[0mdate\u001b[0m\u001b[0;34m\u001b[0m\u001b[0;34m\u001b[0m\u001b[0m\n\u001b[1;32m      3\u001b[0m \u001b[0;32mimport\u001b[0m \u001b[0mos\u001b[0m\u001b[0;34m\u001b[0m\u001b[0;34m\u001b[0m\u001b[0m\n\u001b[1;32m      4\u001b[0m \u001b[0;34m\u001b[0m\u001b[0m\n\u001b[1;32m      5\u001b[0m \u001b[0;31m# Connect to the Copernicus Open Access Hub\u001b[0m\u001b[0;34m\u001b[0m\u001b[0;34m\u001b[0m\u001b[0m\n",
            "\u001b[0;31mModuleNotFoundError\u001b[0m: No module named 'sentinelsat'",
            "",
            "\u001b[0;31m---------------------------------------------------------------------------\u001b[0;32m\nNOTE: If your import is failing due to a missing package, you can\nmanually install dependencies using either !pip or !apt.\n\nTo view examples of installing some common dependencies, click the\n\"Open Examples\" button below.\n\u001b[0;31m---------------------------------------------------------------------------\u001b[0m\n"
          ],
          "errorDetails": {
            "actions": [
              {
                "action": "open_url",
                "actionText": "Open Examples",
                "url": "/notebooks/snippets/importing_libraries.ipynb"
              }
            ]
          }
        }
      ],
      "source": [
        " from sentinelsat import SentinelAPI, read_geojson, geojson_to_wkt\n",
        "from datetime import date\n",
        "import os\n",
        "\n",
        "# Connect to the Copernicus Open Access Hub\n",
        "api = SentinelAPI('jose_254', 'Jose@254', 'https://scihub.copernicus.eu/dhus')\n",
        "\n",
        "\n"
      ]
    },
    {
      "cell_type": "code",
      "source": [
        "# Define the geographic area of interest\n",
        "footprint = geojson_to_wkt(read_geojson('<path_to_geojson_file>'))\n"
      ],
      "metadata": {
        "id": "LFkZUMnh6jo0"
      },
      "execution_count": null,
      "outputs": []
    },
    {
      "cell_type": "code",
      "source": [
        "\n",
        "# Define the time period of interest (e.g., March 2023)\n",
        "start_date = date(2023, 3, 1)\n",
        "end_date = date(2023, 3, 31)\n"
      ],
      "metadata": {
        "id": "9lNoVasz6mLr"
      },
      "execution_count": null,
      "outputs": []
    },
    {
      "cell_type": "code",
      "source": [
        "\n",
        "# Search for Sentinel-2 Level 2A data products\n",
        "products = api.query(footprint,\n",
        "                     date=(start_date, end_date),\n",
        "                     platformname='Sentinel-2',\n",
        "                     producttype='S2MSI2A')\n",
        "\n"
      ],
      "metadata": {
        "id": "NlxdE6Hh6pNY"
      },
      "execution_count": null,
      "outputs": []
    },
    {
      "cell_type": "code",
      "source": [
        "# Download the data products\n",
        "api.download_all(products)"
      ],
      "metadata": {
        "id": "g1K-ALxG6rzG"
      },
      "execution_count": null,
      "outputs": []
    }
  ]
}